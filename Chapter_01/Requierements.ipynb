{
 "cells": [
  {
   "cell_type": "code",
   "execution_count": null,
   "id": "11f0e0f1",
   "metadata": {},
   "outputs": [],
   "source": [
    "import sys\n",
    "\n",
    "# YOU NEED TO HAVE PYTHON 3.7.13\n",
    "!{sys.executable} -m pip install numpy==1.19.2 --user\n",
    "!{sys.executable} -m pip install scipy==1.6.2 --user\n",
    "!{sys.executable} -m pip install tensorflow==2.4.0 --user\n",
    "!{sys.executable} -m pip install tensorflow-probability==0.11.0 --user\n",
    "!{sys.executable} -m pip install scikit-learn==0.24.1 --user\n",
    "!{sys.executable} -m pip install statsmodels==0.12.2  --user\n",
    "!{sys.executable} -m pip install ta --user\n",
    "!{sys.executable} -m pip install datetime --user\n",
    "!{sys.executable} -m pip install yfinance --user\n",
    "!{sys.executable} -m pip install MetaTrader5 --user"
   ]
  }
 ],
 "metadata": {
  "kernelspec": {
   "display_name": "Python 3",
   "language": "python",
   "name": "python3"
  },
  "language_info": {
   "codemirror_mode": {
    "name": "ipython",
    "version": 3
   },
   "file_extension": ".py",
   "mimetype": "text/x-python",
   "name": "python",
   "nbconvert_exporter": "python",
   "pygments_lexer": "ipython3",
   "version": "3.8.8"
  }
 },
 "nbformat": 4,
 "nbformat_minor": 5
}
